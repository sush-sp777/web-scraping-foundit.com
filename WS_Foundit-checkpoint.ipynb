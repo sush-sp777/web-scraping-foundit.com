{
 "cells": [
  {
   "cell_type": "code",
   "execution_count": 33,
   "id": "de0127ed-73c1-4880-951a-32d359fd2c16",
   "metadata": {},
   "outputs": [],
   "source": [
    "# web scrapin for Foundit\n",
    "import requests\n",
    "import selenium\n",
    "from selenium import webdriver\n",
    "from selenium.webdriver.common.by import By\n",
    "from selenium.webdriver.support.ui import WebDriverWait\n",
    "from selenium.webdriver.support import expected_conditions as EC\n",
    "from bs4 import BeautifulSoup\n",
    "import pandas as pd\n",
    "import time\n",
    "import warnings\n",
    "warnings.filterwarnings(\"ignore\")"
   ]
  },
  {
   "cell_type": "code",
   "execution_count": 34,
   "id": "01996f76-6539-4237-88df-fd9834e08cee",
   "metadata": {},
   "outputs": [
    {
     "name": "stdout",
     "output_type": "stream",
     "text": [
      "https://www.foundit.in/srp/results?query=python&locations=mumbai\n"
     ]
    }
   ],
   "source": [
    "# generating url for job position and location\n",
    "def get_url(posn, locn):\n",
    "    posn = posn.replace(\" \", \"+\")\n",
    "    locn = locn.replace(\" \", \"+\")\n",
    "    template = \"https://www.foundit.in/srp/results?query={}&locations={}\"\n",
    "    url = template.format(posn, locn)\n",
    "    return url\n",
    "\n",
    "url = get_url(\"python\", \"mumbai\")\n",
    "print(url)"
   ]
  },
  {
   "cell_type": "code",
   "execution_count": 35,
   "id": "74849b58-742c-46ee-a202-8e5fc62e4c79",
   "metadata": {},
   "outputs": [],
   "source": [
    "# opening link in browser \n",
    "driver = webdriver.Firefox()\n",
    "driver.get(url)\n",
    "driver.maximize_window()\n",
    "time.sleep(10)"
   ]
  },
  {
   "cell_type": "code",
   "execution_count": 36,
   "id": "8f018f13-a8a6-4863-818c-9e9e2f34d7cc",
   "metadata": {},
   "outputs": [],
   "source": [
    "# create BeautifulSoup obj\n",
    "soup = BeautifulSoup(driver.page_source, \"html.parser\")"
   ]
  },
  {
   "cell_type": "code",
   "execution_count": 37,
   "id": "b60211b1-20e1-48ef-a8aa-79241deeb9e6",
   "metadata": {},
   "outputs": [
    {
     "name": "stdout",
     "output_type": "stream",
     "text": [
      "15\n"
     ]
    }
   ],
   "source": [
    "# fetching jobs\n",
    "cards = soup.find_all(\"div\", \"cardContainer\")\n",
    "print(len(cards))"
   ]
  },
  {
   "cell_type": "code",
   "execution_count": 38,
   "id": "b5e51ceb-ae4a-46d6-8ac9-67d3b20ac82d",
   "metadata": {},
   "outputs": [],
   "source": [
    "# prototyping model with a single card\n",
    "card = cards[0]"
   ]
  },
  {
   "cell_type": "code",
   "execution_count": 39,
   "id": "0512487d-4270-4025-8875-c0982cd68a8c",
   "metadata": {},
   "outputs": [],
   "source": [
    "def find_job(card):\n",
    "    \n",
    "    # fetching job name\n",
    "    try:\n",
    "        job_name = card.find(\"div\", \"jobTitle\").text\n",
    "        job_name = job_name.strip()\n",
    "    except:\n",
    "        job_name = \"not mentioned\"\n",
    "        \n",
    "    # fetching company name\n",
    "    try:\n",
    "        comp_name = card.find(\"div\", \"companyName\").text\n",
    "        comp_name = comp_name.strip()\n",
    "    except:\n",
    "        comp_name = \"not mentioned\"\n",
    "        \n",
    "    # fetching company location\n",
    "    try:\n",
    "        x = card.find(\"div\", \"cardBody\").text\n",
    "        comp_locn = x[21:41]\n",
    "        comp_locn = comp_locn.strip()\n",
    "    except:\n",
    "        comp_locn = \"not mentioned\"\n",
    "        \n",
    "    # Fetching experience_required\n",
    "    try:\n",
    "        y = card.find(\"div\", \"cardBody\").text\n",
    "        exp_req = y[42:53]\n",
    "        exp_req = exp_req.strip()\n",
    "    except:\n",
    "        exp_req = \"not mentioned\"\n",
    "\n",
    "    # fetching skills\n",
    "    try:\n",
    "        skill = card.find(\"div\", \"skillDetails\").text\n",
    "        skill = skill.replace(\"  \", \", \")\n",
    "    except:\n",
    "        skill = \"not mentioned\"\n",
    "              \n",
    "    # Fetching job_apply_url\n",
    "    try:\n",
    "        link = driver.find_element(By.CLASS_NAME, \"jdTitle\")\n",
    "        link.click()\n",
    "        driver.switch_to.window(driver.window_handles[1])\n",
    "        current_url = driver.current_url\n",
    "    except:\n",
    "        current_url = 'Not Mentioned'\n",
    "    \n",
    "    all_job_detail = (job_name, comp_name ,comp_locn , exp_req, skill, current_url)\n",
    "    return all_job_detail"
   ]
  },
  {
   "cell_type": "code",
   "execution_count": 40,
   "id": "45697526-3503-4151-82c9-6231950c8149",
   "metadata": {},
   "outputs": [
    {
     "name": "stdout",
     "output_type": "stream",
     "text": [
      "15\n"
     ]
    }
   ],
   "source": [
    "jobs = []\n",
    "for i in cards:\n",
    "    job_det = find_job(i)\n",
    "    jobs.append(job_det)\n",
    "\n",
    "print(len(jobs))"
   ]
  },
  {
   "cell_type": "code",
   "execution_count": 41,
   "id": "38b7e404-b20a-4ce1-82e1-b2de08d18d14",
   "metadata": {},
   "outputs": [
    {
     "data": {
      "text/plain": [
       "('Cyber Security Analyst/Engineer',\n",
       " 'HNM Solutions',\n",
       " 'Remote\\n        5-5 Y',\n",
       " 'ars   Cyber',\n",
       " 'Cyber Security Analyst Cyber Security, Firewall, Vpn, Ids, Python, Java, Ruby ',\n",
       " 'Not Mentioned')"
      ]
     },
     "execution_count": 41,
     "metadata": {},
     "output_type": "execute_result"
    }
   ],
   "source": [
    "jobs[1]"
   ]
  },
  {
   "cell_type": "code",
   "execution_count": 42,
   "id": "694b8718-2afe-4758-b256-43e64974a8a8",
   "metadata": {},
   "outputs": [],
   "source": [
    "# saving this data to a csv file\n",
    "cols = ['Job_name', 'Company_name', 'Company_location', 'Experience_required', 'Skills', 'Job_apply_url']\n",
    "foundit_jobs_data = pd.DataFrame(jobs,columns=cols)\n",
    "foundit_jobs_data.to_csv('E:\\\\Foundit_WebScrap.csv',encoding='utf-8')"
   ]
  },
  {
   "cell_type": "code",
   "execution_count": null,
   "id": "5b838c12-cf94-4e45-9b9a-e1cfa9555901",
   "metadata": {},
   "outputs": [],
   "source": []
  }
 ],
 "metadata": {
  "kernelspec": {
   "display_name": "Python 3 (ipykernel)",
   "language": "python",
   "name": "python3"
  },
  "language_info": {
   "codemirror_mode": {
    "name": "ipython",
    "version": 3
   },
   "file_extension": ".py",
   "mimetype": "text/x-python",
   "name": "python",
   "nbconvert_exporter": "python",
   "pygments_lexer": "ipython3",
   "version": "3.11.5"
  }
 },
 "nbformat": 4,
 "nbformat_minor": 5
}
